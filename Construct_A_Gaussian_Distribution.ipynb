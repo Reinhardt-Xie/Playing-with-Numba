{
  "nbformat": 4,
  "nbformat_minor": 0,
  "metadata": {
    "colab": {
      "name": "Construct A Gaussian Distribution.ipynb",
      "provenance": []
    },
    "kernelspec": {
      "name": "python3",
      "display_name": "Python 3"
    },
    "accelerator": "GPU"
  },
  "cells": [
    {
      "cell_type": "code",
      "metadata": {
        "id": "4ynWVZTqNvS5",
        "outputId": "28d7f741-deac-4c62-aa7e-8676a6e60f68",
        "colab": {
          "base_uri": "https://localhost:8080/",
          "height": 153
        }
      },
      "source": [
        "!pip install numba\n",
        "!find / -iname 'libdevice'\n",
        "!find / -iname 'libnvvm.so'"
      ],
      "execution_count": null,
      "outputs": [
        {
          "output_type": "stream",
          "text": [
            "Requirement already satisfied: numba in /usr/local/lib/python3.6/dist-packages (0.48.0)\n",
            "Requirement already satisfied: llvmlite<0.32.0,>=0.31.0dev0 in /usr/local/lib/python3.6/dist-packages (from numba) (0.31.0)\n",
            "Requirement already satisfied: numpy>=1.15 in /usr/local/lib/python3.6/dist-packages (from numba) (1.18.5)\n",
            "Requirement already satisfied: setuptools in /usr/local/lib/python3.6/dist-packages (from numba) (50.3.0)\n",
            "/usr/local/cuda-10.0/nvvm/libdevice\n",
            "/usr/local/cuda-10.1/nvvm/libdevice\n",
            "/usr/local/cuda-10.0/nvvm/lib64/libnvvm.so\n",
            "/usr/local/cuda-10.1/nvvm/lib64/libnvvm.so\n"
          ],
          "name": "stdout"
        }
      ]
    },
    {
      "cell_type": "code",
      "metadata": {
        "id": "tWoI0-XuHAbd",
        "outputId": "26d73290-4589-4723-a2a7-720030af87b5",
        "colab": {
          "base_uri": "https://localhost:8080/",
          "height": 153
        }
      },
      "source": [
        "from numba import cuda\n",
        "from numba import vectorize\n",
        "import math\n",
        "import numpy as np\n",
        "\n",
        "# This is square root of 2*pi\n",
        "SQRT_TWOPI = np.float32(math.sqrt(2 * math.pi))\n",
        "\n",
        "# Leverage CUDA to conduct repetitive operations\n",
        "@vectorize(['float32(float32, float32, float32)'], target='cuda')\n",
        "\n",
        "# Define Gaussian Function\n",
        "def gaussian(x, x0, sigma):\n",
        "    return math.exp(-((x - x0) / sigma)**2 / 2) / (SQRT_TWOPI * sigma)\n",
        "\n",
        "# Generate Numbers\n",
        "x = np.linspace(-3, 3, 10000, dtype=np.float32)\n",
        "\n",
        "# 1D Distribution\n",
        "g = gaussian(x, 0, 1)  # 1D result\n",
        "print(g)\n",
        "\n",
        "# 2D Distribution\n",
        "x2d = x.reshape((100,100))\n",
        "g2d = gaussian(x2d, 0, 1) # 2D result\n",
        "print(g2d)"
      ],
      "execution_count": 7,
      "outputs": [
        {
          "output_type": "stream",
          "text": [
            "[0.00443185 0.00443983 0.00444783 ... 0.00444783 0.00443983 0.00443185]\n",
            "[[0.00443185 0.00443983 0.00444783 ... 0.00526847 0.00527778 0.0052871 ]\n",
            " [0.00529644 0.00530579 0.00531515 ... 0.00627432 0.00628518 0.00629605]\n",
            " [0.00630695 0.00631785 0.00632877 ... 0.00744535 0.00745797 0.0074706 ]\n",
            " ...\n",
            " [0.0074706  0.00745797 0.00744535 ... 0.00632877 0.00631785 0.00630695]\n",
            " [0.00629605 0.00628518 0.00627432 ... 0.00531515 0.00530579 0.00529644]\n",
            " [0.0052871  0.00527778 0.00526847 ... 0.00444783 0.00443983 0.00443185]]\n"
          ],
          "name": "stdout"
        }
      ]
    }
  ]
}